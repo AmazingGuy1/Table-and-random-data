{
 "cells": [
  {
   "cell_type": "code",
   "execution_count": 27,
   "metadata": {},
   "outputs": [
    {
     "name": "stdout",
     "output_type": "stream",
     "text": [
      "1x² + 1x + 1 = 0,\n",
      "a = 1\tb = 1\tc = 1,\n",
      "D = b² - 4ac = 1² - 4*1*1 = -3.0,\n",
      "В данном уравнений корней нет\n"
     ]
    }
   ],
   "source": [
    "from math import *\n",
    "from random import randint\n",
    "\n",
    "try:\n",
    "    a, b, c = randint(0, 1), randint(0, 1), randint(0, 1)\n",
    "    D = (pow(b, 2)) - (4 * a * c)\n",
    "\n",
    "    print(f'{a}x² + {b}x + {c} = 0,')\n",
    "    print(f'{a = }\\t{b = }\\t{c = },')\n",
    "    print(f'D = b² - 4ac = {b}² - 4*{a}*{c} = {D},')\n",
    "\n",
    "    # проверка на корни и решения\n",
    "    \n",
    "    if D > 0:\n",
    "        x1 = (-b + sqrt(D)) / (2 * a)\n",
    "        x2 = (-b - sqrt(D)) / (2 * a)\n",
    "\n",
    "        print(f'D > 0\\t2 корня\\n√D = √{D} = {sqrt(D)},')\n",
    "        print(f'x = -b ∓ √D / 2a = {-b} ∓ √{D} / 2 * {a},')\n",
    "        print(f'x₁ = {-b} + {sqrt(D)} / 2 * {a} = {x1},')\n",
    "        print(f'x₂ = {-b} - {sqrt(D)} / 2 * {a} = {x2},')\n",
    "        print(f'Ответ: {x1 = }, {x2 = }')\n",
    "\n",
    "    elif D == 0:\n",
    "        x = -b / (2 * a)\n",
    "\n",
    "        print(f'D = 0\\t1 корень\\n√D = √{D} = {sqrt(D)},')\n",
    "        print(f'x = -b / 2a = {-b} / 2 * {a} = {x},')\n",
    "        print(f'Ответ: {x = }')\n",
    "\n",
    "    else:\n",
    "        print('В данном уравнений корней нет')\n",
    "\n",
    "except TypeError:\n",
    "    print('Нужно было ввести число')"
   ]
  }
 ],
 "metadata": {
  "kernelspec": {
   "display_name": "Python 3",
   "language": "python",
   "name": "python3"
  },
  "language_info": {
   "codemirror_mode": {
    "name": "ipython",
    "version": 3
   },
   "file_extension": ".py",
   "mimetype": "text/x-python",
   "name": "python",
   "nbconvert_exporter": "python",
   "pygments_lexer": "ipython3",
   "version": "3.10.6"
  },
  "orig_nbformat": 4,
  "vscode": {
   "interpreter": {
    "hash": "a42ccb73e7d9bfdf27e036f1d2b8b681e55fc0743cc5586bc2474d4a60f4b886"
   }
  }
 },
 "nbformat": 4,
 "nbformat_minor": 2
}
